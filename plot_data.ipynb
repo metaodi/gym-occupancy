{
 "cells": [
  {
   "cell_type": "code",
   "execution_count": null,
   "metadata": {},
   "outputs": [],
   "source": [
    "import pandas as pd\n",
    "import matplotlib.pyplot as plt\n",
    "import matplotlib.dates as mdates\n",
    "import matplotlib.ticker as ticker"
   ]
  },
  {
   "cell_type": "code",
   "execution_count": null,
   "metadata": {},
   "outputs": [],
   "source": [
    "!python extract_git_history.py -i occupancy.csv -o occupancy_history.csv --start-at be9808b76526d4b8646232e1d63148f10930576b"
   ]
  },
  {
   "cell_type": "code",
   "execution_count": null,
   "metadata": {},
   "outputs": [],
   "source": [
    "df = pd.read_csv(\"occupancy_history.csv\", parse_dates=[0])\n",
    "df[\"timestamp_utc\"] = df.timestamp_utc.dt.tz_localize(\"UTC\")\n",
    "df[\"timestamp_cet\"] = df.timestamp_utc.dt.tz_convert(\"Europe/Zurich\")\n",
    "df"
   ]
  },
  {
   "cell_type": "code",
   "execution_count": null,
   "metadata": {},
   "outputs": [],
   "source": [
    "df[\"timestamp_cet\"] = df.timestamp_utc.dt.tz_convert(\"Europe/Zurich\")"
   ]
  },
  {
   "cell_type": "code",
   "execution_count": null,
   "metadata": {},
   "outputs": [],
   "source": [
    "df.info()"
   ]
  },
  {
   "cell_type": "code",
   "execution_count": null,
   "metadata": {},
   "outputs": [],
   "source": [
    "search_term = r\"(Puls 5|Stadelhofen)\"\n",
    "gyms = sorted(df[df.gym.str.contains(search_term, regex=True)].gym.unique())\n",
    "gyms"
   ]
  },
  {
   "cell_type": "code",
   "execution_count": null,
   "metadata": {},
   "outputs": [],
   "source": [
    "df_stadi = df[df.gym == \"Fitnesspark Zürich Stadelhofen\"]\n",
    "df_stadi"
   ]
  },
  {
   "cell_type": "code",
   "execution_count": null,
   "metadata": {},
   "outputs": [],
   "source": [
    "plt.style.use('fivethirtyeight')\n",
    "fig, ax = plt.subplots(figsize=(20,10))\n",
    "\n",
    "# TODO add all gyms\n",
    "for i, gym in enumerate(gyms):\n",
    "    df_gym = df[df.gym == gym]\n",
    "    \n",
    "    df_gym.plot(kind='line', y='occupancy', x=\"timestamp_cet\", label=gym, ax=ax)\n",
    "    #ax.legend().set_visible(False)\n",
    "\n",
    "ax.set_ylabel('Anzahl Personen')\n",
    "ax.set_xlabel('Datum')\n",
    "\n",
    "# Major ticks alle 5 Tage, ab dem 5.\n",
    "ax.xaxis.set_major_locator(mdates.HourLocator(byhour=range(6, 22, 6)))\n",
    "ax.xaxis.set_major_formatter(mdates.DateFormatter('%d.%m.%Y %H:%M'))\n",
    "plt.xticks(rotation=45, ha='right', rotation_mode='anchor')\n",
    "\n",
    "# Minor ticks off\n",
    "ax.xaxis.set_minor_locator(ticker.NullLocator())\n",
    "\n",
    "plt.show()"
   ]
  },
  {
   "cell_type": "code",
   "execution_count": null,
   "metadata": {},
   "outputs": [],
   "source": [
    "\n"
   ]
  }
 ],
 "metadata": {
  "kernelspec": {
   "display_name": "pyenv",
   "language": "python",
   "name": "python3"
  },
  "language_info": {
   "codemirror_mode": {
    "name": "ipython",
    "version": 3
   },
   "file_extension": ".py",
   "mimetype": "text/x-python",
   "name": "python",
   "nbconvert_exporter": "python",
   "pygments_lexer": "ipython3",
   "version": "3.11.5"
  }
 },
 "nbformat": 4,
 "nbformat_minor": 4
}
