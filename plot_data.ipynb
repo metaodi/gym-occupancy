{
 "cells": [
  {
   "cell_type": "code",
   "execution_count": 16,
   "metadata": {},
   "outputs": [],
   "source": [
    "import pandas as pd\n",
    "import matplotlib.pyplot as plt\n",
    "import matplotlib.dates as mdates\n",
    "import matplotlib.ticker as ticker"
   ]
  },
  {
   "cell_type": "code",
   "execution_count": 2,
   "metadata": {},
   "outputs": [],
   "source": [
    "!python extract_git_history.py -i occupancy.csv -o occupancy_history.csv --start-at be9808b76526d4b8646232e1d63148f10930576b"
   ]
  },
  {
   "cell_type": "code",
   "execution_count": 13,
   "metadata": {},
   "outputs": [
    {
     "data": {
      "application/vnd.microsoft.datawrangler.viewer.v0+json": {
       "columns": [
        {
         "name": "index",
         "rawType": "int64",
         "type": "integer"
        },
        {
         "name": "timestamp_utc",
         "rawType": "datetime64[ns]",
         "type": "datetime"
        },
        {
         "name": "url",
         "rawType": "object",
         "type": "string"
        },
        {
         "name": "training_area_m2",
         "rawType": "float64",
         "type": "float"
        },
        {
         "name": "gym",
         "rawType": "object",
         "type": "string"
        },
        {
         "name": "occupancy",
         "rawType": "float64",
         "type": "float"
        }
       ],
       "conversionMethod": "pd.DataFrame",
       "ref": "e1befdad-0947-4949-8e03-9f9b521c9097",
       "rows": [
        [
         "0",
         "2025-03-23 18:25:14.228670",
         "https://www.fitnesspark.ch/fitnessparks/zuerich-stadelhofen/ueber-den-park/",
         "600.0",
         "Fitnesspark Zürich Stadelhofen",
         "105.0"
        ],
        [
         "1",
         "2025-03-23 18:25:23.270648",
         "https://www.fitnesspark.ch/fitnessparks/zug-eichstaette/ueber-den-park/",
         "1341.0",
         "Fitnesspark Zug Eichstätte",
         "171.0"
        ],
        [
         "2",
         "2025-03-23 18:25:30.989067",
         "https://www.fitnesspark.ch/fitnessparks/greifensee-milandia/ueber-den-park/",
         "734.0",
         "Fitnesspark Greifensee Milandia",
         "58.0"
        ],
        [
         "3",
         "2025-03-23 18:25:40.150531",
         "https://www.fitnesspark.ch/fitnessparks/regensdorf/ueber-den-park/",
         "553.0",
         "Fitnesspark Regensdorf",
         "109.0"
        ],
        [
         "4",
         "2025-03-23 18:25:49.202268",
         "https://www.fitnesspark.ch/fitnessparks/winterthur/ueber-den-park/",
         "1200.0",
         "Fitnesspark Winterthur",
         "89.0"
        ],
        [
         "5",
         "2025-03-23 18:25:58.312897",
         "https://www.fitnesspark.ch/fitnessparks/zuerich-glattpark/ueber-den-park/",
         "930.0",
         "Fitnesspark Zürich Glattpark",
         "135.0"
        ],
        [
         "6",
         "2025-03-23 18:26:06.104158",
         "https://www.fitnesspark.ch/fitnessparks/puls-5-zuerich/ueber-den-park/",
         "850.0",
         "Fitnesspark Zürich Puls 5",
         "102.0"
        ],
        [
         "7",
         "2025-03-23 18:26:13.530851",
         "https://www.fitnesspark.ch/fitnessparks/zuerich-sihlcity/ueber-den-park/",
         "714.0",
         "Fitnesspark Zürich Sihlcity",
         "87.0"
        ],
        [
         "8",
         "2025-03-23 18:26:21.427246",
         "https://www.fitnesspark.ch/fitnessparks/zuerich-stockerhof/ueber-den-park/",
         "708.0",
         "Fitnesspark Zürich Stockerhof",
         "147.0"
        ],
        [
         "9",
         "2025-03-23 18:26:29.309563",
         "https://www.fitnesspark.ch/fitnessparks/luzern-national/ueber-den-park/",
         "863.0",
         "Fitnesspark Luzern National",
         "247.0"
        ],
        [
         "10",
         "2025-03-23 18:26:36.953332",
         "https://www.fitnesspark.ch/fitnessparks/luzern-allmend/ueber-den-park/",
         "1091.0",
         "Fitnesspark Luzern Allmend",
         "85.0"
        ],
        [
         "11",
         "2025-03-23 18:26:44.776741",
         "https://www.fitnesspark.ch/fitnessparks/baden-trafo/ueber-den-park/",
         "590.0",
         "Fitnesspark Baden Trafo",
         "39.0"
        ],
        [
         "12",
         "2025-03-23 18:26:52.282302",
         "https://www.fitnesspark.ch/fitnessparks/basel-heuwaage/ueber-den-park/",
         null,
         "Fitnesspark Basel Heuwaage",
         "1.0"
        ],
        [
         "13",
         "2025-03-23 18:27:00.034473",
         "https://www.fitnesspark.ch/fitnessparks/bern-city/ueber-den-park/",
         "1200.0",
         "Fitnesspark Bern City",
         "49.0"
        ],
        [
         "14",
         "2025-03-23 18:27:07.580197",
         "https://www.fitnesspark.ch/fitnessparks/oberhofen-bern/ueber-den-park/",
         "311.0",
         "Fitnesspark Oberhofen",
         "6.0"
        ],
        [
         "15",
         "2025-03-23 18:27:15.611853",
         "https://www.fitnesspark.ch/fitnessparks/ostermundigen-time-out/ueber-den-park/",
         "642.0",
         "Fitnesspark Ostermundigen Time-Out",
         "38.0"
        ],
        [
         "16",
         "2025-03-23 18:33:59.383976",
         "https://www.fitnesspark.ch/fitnessparks/zuerich-stadelhofen/ueber-den-park/",
         "600.0",
         "Fitnesspark Zürich Stadelhofen",
         "94.0"
        ],
        [
         "17",
         "2025-03-23 18:34:15.817943",
         "https://www.fitnesspark.ch/fitnessparks/zug-eichstaette/ueber-den-park/",
         "1341.0",
         "Fitnesspark Zug Eichstätte",
         "171.0"
        ],
        [
         "18",
         "2025-03-23 18:34:24.112278",
         "https://www.fitnesspark.ch/fitnessparks/greifensee-milandia/ueber-den-park/",
         "734.0",
         "Fitnesspark Greifensee Milandia",
         "58.0"
        ],
        [
         "19",
         "2025-03-23 18:34:32.072700",
         "https://www.fitnesspark.ch/fitnessparks/regensdorf/ueber-den-park/",
         "553.0",
         "Fitnesspark Regensdorf",
         "61.0"
        ],
        [
         "20",
         "2025-03-23 18:34:39.910110",
         "https://www.fitnesspark.ch/fitnessparks/winterthur/ueber-den-park/",
         "1200.0",
         "Fitnesspark Winterthur",
         "76.0"
        ],
        [
         "21",
         "2025-03-23 18:34:47.975936",
         "https://www.fitnesspark.ch/fitnessparks/zuerich-glattpark/ueber-den-park/",
         "930.0",
         "Fitnesspark Zürich Glattpark",
         "135.0"
        ],
        [
         "22",
         "2025-03-23 18:34:57.492939",
         "https://www.fitnesspark.ch/fitnessparks/puls-5-zuerich/ueber-den-park/",
         "850.0",
         "Fitnesspark Zürich Puls 5",
         "102.0"
        ],
        [
         "23",
         "2025-03-23 18:35:05.458192",
         "https://www.fitnesspark.ch/fitnessparks/zuerich-sihlcity/ueber-den-park/",
         "714.0",
         "Fitnesspark Zürich Sihlcity",
         "62.0"
        ],
        [
         "24",
         "2025-03-23 18:35:13.733376",
         "https://www.fitnesspark.ch/fitnessparks/zuerich-stockerhof/ueber-den-park/",
         "708.0",
         "Fitnesspark Zürich Stockerhof",
         "132.0"
        ],
        [
         "25",
         "2025-03-23 18:35:21.678959",
         "https://www.fitnesspark.ch/fitnessparks/luzern-national/ueber-den-park/",
         "863.0",
         "Fitnesspark Luzern National",
         "232.0"
        ],
        [
         "26",
         "2025-03-23 18:35:29.801604",
         "https://www.fitnesspark.ch/fitnessparks/luzern-allmend/ueber-den-park/",
         "1091.0",
         "Fitnesspark Luzern Allmend",
         "76.0"
        ],
        [
         "27",
         "2025-03-23 18:35:37.971749",
         "https://www.fitnesspark.ch/fitnessparks/baden-trafo/ueber-den-park/",
         "590.0",
         "Fitnesspark Baden Trafo",
         "30.0"
        ],
        [
         "28",
         "2025-03-23 18:35:45.899432",
         "https://www.fitnesspark.ch/fitnessparks/basel-heuwaage/ueber-den-park/",
         null,
         "Fitnesspark Basel Heuwaage",
         "1.0"
        ],
        [
         "29",
         "2025-03-23 18:35:54.574453",
         "https://www.fitnesspark.ch/fitnessparks/bern-city/ueber-den-park/",
         "1200.0",
         "Fitnesspark Bern City",
         "40.0"
        ],
        [
         "30",
         "2025-03-23 18:36:04.898772",
         "https://www.fitnesspark.ch/fitnessparks/oberhofen-bern/ueber-den-park/",
         "311.0",
         "Fitnesspark Oberhofen",
         "6.0"
        ],
        [
         "31",
         "2025-03-23 18:36:14.296968",
         "https://www.fitnesspark.ch/fitnessparks/ostermundigen-time-out/ueber-den-park/",
         "642.0",
         "Fitnesspark Ostermundigen Time-Out",
         "7.0"
        ],
        [
         "32",
         "2025-03-23 18:48:36.446235",
         "https://www.fitnesspark.ch/fitnessparks/zuerich-stadelhofen/ueber-den-park/",
         "600.0",
         "Fitnesspark Zürich Stadelhofen",
         "53.0"
        ],
        [
         "33",
         "2025-03-23 18:48:44.621411",
         "https://www.fitnesspark.ch/fitnessparks/zug-eichstaette/ueber-den-park/",
         "1341.0",
         "Fitnesspark Zug Eichstätte",
         "155.0"
        ],
        [
         "34",
         "2025-03-23 18:48:51.714298",
         "https://www.fitnesspark.ch/fitnessparks/greifensee-milandia/ueber-den-park/",
         "734.0",
         "Fitnesspark Greifensee Milandia",
         "47.0"
        ],
        [
         "35",
         "2025-03-23 18:48:58.970988",
         "https://www.fitnesspark.ch/fitnessparks/regensdorf/ueber-den-park/",
         "553.0",
         "Fitnesspark Regensdorf",
         "61.0"
        ],
        [
         "36",
         "2025-03-23 18:49:05.996637",
         "https://www.fitnesspark.ch/fitnessparks/winterthur/ueber-den-park/",
         "1200.0",
         "Fitnesspark Winterthur",
         "76.0"
        ],
        [
         "37",
         "2025-03-23 18:49:12.878149",
         "https://www.fitnesspark.ch/fitnessparks/zuerich-glattpark/ueber-den-park/",
         "930.0",
         "Fitnesspark Zürich Glattpark",
         "115.0"
        ],
        [
         "38",
         "2025-03-23 18:49:19.722402",
         "https://www.fitnesspark.ch/fitnessparks/puls-5-zuerich/ueber-den-park/",
         "850.0",
         "Fitnesspark Zürich Puls 5",
         "89.0"
        ],
        [
         "39",
         "2025-03-23 18:49:26.714737",
         "https://www.fitnesspark.ch/fitnessparks/zuerich-sihlcity/ueber-den-park/",
         "714.0",
         "Fitnesspark Zürich Sihlcity",
         "49.0"
        ],
        [
         "40",
         "2025-03-23 18:49:33.513031",
         "https://www.fitnesspark.ch/fitnessparks/zuerich-stockerhof/ueber-den-park/",
         "708.0",
         "Fitnesspark Zürich Stockerhof",
         "111.0"
        ],
        [
         "41",
         "2025-03-23 18:49:40.340732",
         "https://www.fitnesspark.ch/fitnessparks/luzern-national/ueber-den-park/",
         "863.0",
         "Fitnesspark Luzern National",
         "209.0"
        ],
        [
         "42",
         "2025-03-23 18:49:47.443615",
         "https://www.fitnesspark.ch/fitnessparks/luzern-allmend/ueber-den-park/",
         "1091.0",
         "Fitnesspark Luzern Allmend",
         "51.0"
        ],
        [
         "43",
         "2025-03-23 18:49:54.272533",
         "https://www.fitnesspark.ch/fitnessparks/baden-trafo/ueber-den-park/",
         "590.0",
         "Fitnesspark Baden Trafo",
         "21.0"
        ],
        [
         "44",
         "2025-03-23 18:50:01.091107",
         "https://www.fitnesspark.ch/fitnessparks/basel-heuwaage/ueber-den-park/",
         null,
         "Fitnesspark Basel Heuwaage",
         "1.0"
        ],
        [
         "45",
         "2025-03-23 18:50:08.079956",
         "https://www.fitnesspark.ch/fitnessparks/bern-city/ueber-den-park/",
         "1200.0",
         "Fitnesspark Bern City",
         "40.0"
        ],
        [
         "46",
         "2025-03-23 18:50:15.060445",
         "https://www.fitnesspark.ch/fitnessparks/oberhofen-bern/ueber-den-park/",
         "311.0",
         "Fitnesspark Oberhofen",
         "6.0"
        ],
        [
         "47",
         "2025-03-23 18:50:21.939063",
         "https://www.fitnesspark.ch/fitnessparks/ostermundigen-time-out/ueber-den-park/",
         "642.0",
         "Fitnesspark Ostermundigen Time-Out",
         "7.0"
        ],
        [
         "48",
         "2025-03-23 19:10:40.684326",
         "https://www.fitnesspark.ch/fitnessparks/zuerich-stadelhofen/ueber-den-park/",
         "600.0",
         "Fitnesspark Zürich Stadelhofen",
         "12.0"
        ],
        [
         "49",
         "2025-03-23 19:10:48.696108",
         "https://www.fitnesspark.ch/fitnessparks/zug-eichstaette/ueber-den-park/",
         "1341.0",
         "Fitnesspark Zug Eichstätte",
         "127.0"
        ]
       ],
       "shape": {
        "columns": 5,
        "rows": 3840
       }
      },
      "text/html": [
       "<div>\n",
       "<style scoped>\n",
       "    .dataframe tbody tr th:only-of-type {\n",
       "        vertical-align: middle;\n",
       "    }\n",
       "\n",
       "    .dataframe tbody tr th {\n",
       "        vertical-align: top;\n",
       "    }\n",
       "\n",
       "    .dataframe thead th {\n",
       "        text-align: right;\n",
       "    }\n",
       "</style>\n",
       "<table border=\"1\" class=\"dataframe\">\n",
       "  <thead>\n",
       "    <tr style=\"text-align: right;\">\n",
       "      <th></th>\n",
       "      <th>timestamp_utc</th>\n",
       "      <th>url</th>\n",
       "      <th>training_area_m2</th>\n",
       "      <th>gym</th>\n",
       "      <th>occupancy</th>\n",
       "    </tr>\n",
       "  </thead>\n",
       "  <tbody>\n",
       "    <tr>\n",
       "      <th>0</th>\n",
       "      <td>2025-03-23 18:25:14.228670</td>\n",
       "      <td>https://www.fitnesspark.ch/fitnessparks/zueric...</td>\n",
       "      <td>600.0</td>\n",
       "      <td>Fitnesspark Zürich Stadelhofen</td>\n",
       "      <td>105.0</td>\n",
       "    </tr>\n",
       "    <tr>\n",
       "      <th>1</th>\n",
       "      <td>2025-03-23 18:25:23.270648</td>\n",
       "      <td>https://www.fitnesspark.ch/fitnessparks/zug-ei...</td>\n",
       "      <td>1341.0</td>\n",
       "      <td>Fitnesspark Zug Eichstätte</td>\n",
       "      <td>171.0</td>\n",
       "    </tr>\n",
       "    <tr>\n",
       "      <th>2</th>\n",
       "      <td>2025-03-23 18:25:30.989067</td>\n",
       "      <td>https://www.fitnesspark.ch/fitnessparks/greife...</td>\n",
       "      <td>734.0</td>\n",
       "      <td>Fitnesspark Greifensee Milandia</td>\n",
       "      <td>58.0</td>\n",
       "    </tr>\n",
       "    <tr>\n",
       "      <th>3</th>\n",
       "      <td>2025-03-23 18:25:40.150531</td>\n",
       "      <td>https://www.fitnesspark.ch/fitnessparks/regens...</td>\n",
       "      <td>553.0</td>\n",
       "      <td>Fitnesspark Regensdorf</td>\n",
       "      <td>109.0</td>\n",
       "    </tr>\n",
       "    <tr>\n",
       "      <th>4</th>\n",
       "      <td>2025-03-23 18:25:49.202268</td>\n",
       "      <td>https://www.fitnesspark.ch/fitnessparks/winter...</td>\n",
       "      <td>1200.0</td>\n",
       "      <td>Fitnesspark Winterthur</td>\n",
       "      <td>89.0</td>\n",
       "    </tr>\n",
       "    <tr>\n",
       "      <th>...</th>\n",
       "      <td>...</td>\n",
       "      <td>...</td>\n",
       "      <td>...</td>\n",
       "      <td>...</td>\n",
       "      <td>...</td>\n",
       "    </tr>\n",
       "    <tr>\n",
       "      <th>3835</th>\n",
       "      <td>2025-03-27 22:33:56.098077</td>\n",
       "      <td>https://www.fitnesspark.ch/fitnessparks/baden-...</td>\n",
       "      <td>590.0</td>\n",
       "      <td>Fitnesspark Baden Trafo</td>\n",
       "      <td>NaN</td>\n",
       "    </tr>\n",
       "    <tr>\n",
       "      <th>3836</th>\n",
       "      <td>2025-03-27 22:34:03.543050</td>\n",
       "      <td>https://www.fitnesspark.ch/fitnessparks/basel-...</td>\n",
       "      <td>NaN</td>\n",
       "      <td>Fitnesspark Basel Heuwaage</td>\n",
       "      <td>NaN</td>\n",
       "    </tr>\n",
       "    <tr>\n",
       "      <th>3837</th>\n",
       "      <td>2025-03-27 22:34:10.708350</td>\n",
       "      <td>https://www.fitnesspark.ch/fitnessparks/bern-c...</td>\n",
       "      <td>1200.0</td>\n",
       "      <td>Fitnesspark Bern City</td>\n",
       "      <td>NaN</td>\n",
       "    </tr>\n",
       "    <tr>\n",
       "      <th>3838</th>\n",
       "      <td>2025-03-27 22:34:18.187208</td>\n",
       "      <td>https://www.fitnesspark.ch/fitnessparks/oberho...</td>\n",
       "      <td>311.0</td>\n",
       "      <td>Fitnesspark Oberhofen</td>\n",
       "      <td>NaN</td>\n",
       "    </tr>\n",
       "    <tr>\n",
       "      <th>3839</th>\n",
       "      <td>2025-03-27 22:34:25.597277</td>\n",
       "      <td>https://www.fitnesspark.ch/fitnessparks/osterm...</td>\n",
       "      <td>642.0</td>\n",
       "      <td>Fitnesspark Ostermundigen Time-Out</td>\n",
       "      <td>NaN</td>\n",
       "    </tr>\n",
       "  </tbody>\n",
       "</table>\n",
       "<p>3840 rows × 5 columns</p>\n",
       "</div>"
      ],
      "text/plain": [
       "                  timestamp_utc  \\\n",
       "0    2025-03-23 18:25:14.228670   \n",
       "1    2025-03-23 18:25:23.270648   \n",
       "2    2025-03-23 18:25:30.989067   \n",
       "3    2025-03-23 18:25:40.150531   \n",
       "4    2025-03-23 18:25:49.202268   \n",
       "...                         ...   \n",
       "3835 2025-03-27 22:33:56.098077   \n",
       "3836 2025-03-27 22:34:03.543050   \n",
       "3837 2025-03-27 22:34:10.708350   \n",
       "3838 2025-03-27 22:34:18.187208   \n",
       "3839 2025-03-27 22:34:25.597277   \n",
       "\n",
       "                                                    url  training_area_m2  \\\n",
       "0     https://www.fitnesspark.ch/fitnessparks/zueric...             600.0   \n",
       "1     https://www.fitnesspark.ch/fitnessparks/zug-ei...            1341.0   \n",
       "2     https://www.fitnesspark.ch/fitnessparks/greife...             734.0   \n",
       "3     https://www.fitnesspark.ch/fitnessparks/regens...             553.0   \n",
       "4     https://www.fitnesspark.ch/fitnessparks/winter...            1200.0   \n",
       "...                                                 ...               ...   \n",
       "3835  https://www.fitnesspark.ch/fitnessparks/baden-...             590.0   \n",
       "3836  https://www.fitnesspark.ch/fitnessparks/basel-...               NaN   \n",
       "3837  https://www.fitnesspark.ch/fitnessparks/bern-c...            1200.0   \n",
       "3838  https://www.fitnesspark.ch/fitnessparks/oberho...             311.0   \n",
       "3839  https://www.fitnesspark.ch/fitnessparks/osterm...             642.0   \n",
       "\n",
       "                                     gym  occupancy  \n",
       "0         Fitnesspark Zürich Stadelhofen      105.0  \n",
       "1             Fitnesspark Zug Eichstätte      171.0  \n",
       "2        Fitnesspark Greifensee Milandia       58.0  \n",
       "3                 Fitnesspark Regensdorf      109.0  \n",
       "4                 Fitnesspark Winterthur       89.0  \n",
       "...                                  ...        ...  \n",
       "3835             Fitnesspark Baden Trafo        NaN  \n",
       "3836          Fitnesspark Basel Heuwaage        NaN  \n",
       "3837               Fitnesspark Bern City        NaN  \n",
       "3838               Fitnesspark Oberhofen        NaN  \n",
       "3839  Fitnesspark Ostermundigen Time-Out        NaN  \n",
       "\n",
       "[3840 rows x 5 columns]"
      ]
     },
     "execution_count": 13,
     "metadata": {},
     "output_type": "execute_result"
    }
   ],
   "source": [
    "df = pd.read_csv(\"occupancy_history.csv\", parse_dates=[0])\n",
    "df"
   ]
  },
  {
   "cell_type": "code",
   "execution_count": 14,
   "metadata": {},
   "outputs": [
    {
     "name": "stdout",
     "output_type": "stream",
     "text": [
      "<class 'pandas.core.frame.DataFrame'>\n",
      "RangeIndex: 3840 entries, 0 to 3839\n",
      "Data columns (total 5 columns):\n",
      " #   Column            Non-Null Count  Dtype         \n",
      "---  ------            --------------  -----         \n",
      " 0   timestamp_utc     3840 non-null   datetime64[ns]\n",
      " 1   url               3840 non-null   object        \n",
      " 2   training_area_m2  3600 non-null   float64       \n",
      " 3   gym               3840 non-null   object        \n",
      " 4   occupancy         3246 non-null   float64       \n",
      "dtypes: datetime64[ns](1), float64(2), object(2)\n",
      "memory usage: 150.1+ KB\n"
     ]
    }
   ],
   "source": [
    "df.info()"
   ]
  },
  {
   "cell_type": "code",
   "execution_count": 15,
   "metadata": {},
   "outputs": [
    {
     "data": {
      "application/vnd.microsoft.datawrangler.viewer.v0+json": {
       "columns": [
        {
         "name": "index",
         "rawType": "int64",
         "type": "integer"
        },
        {
         "name": "timestamp_utc",
         "rawType": "datetime64[ns]",
         "type": "datetime"
        },
        {
         "name": "url",
         "rawType": "object",
         "type": "string"
        },
        {
         "name": "training_area_m2",
         "rawType": "float64",
         "type": "float"
        },
        {
         "name": "gym",
         "rawType": "object",
         "type": "string"
        },
        {
         "name": "occupancy",
         "rawType": "float64",
         "type": "float"
        }
       ],
       "conversionMethod": "pd.DataFrame",
       "ref": "1f5bdaf2-61c6-40fd-ab7e-811b35ab8601",
       "rows": [
        [
         "6",
         "2025-03-23 18:26:06.104158",
         "https://www.fitnesspark.ch/fitnessparks/puls-5-zuerich/ueber-den-park/",
         "850.0",
         "Fitnesspark Zürich Puls 5",
         "102.0"
        ],
        [
         "22",
         "2025-03-23 18:34:57.492939",
         "https://www.fitnesspark.ch/fitnessparks/puls-5-zuerich/ueber-den-park/",
         "850.0",
         "Fitnesspark Zürich Puls 5",
         "102.0"
        ],
        [
         "38",
         "2025-03-23 18:49:19.722402",
         "https://www.fitnesspark.ch/fitnessparks/puls-5-zuerich/ueber-den-park/",
         "850.0",
         "Fitnesspark Zürich Puls 5",
         "89.0"
        ],
        [
         "54",
         "2025-03-23 19:11:25.200603",
         "https://www.fitnesspark.ch/fitnessparks/puls-5-zuerich/ueber-den-park/",
         "850.0",
         "Fitnesspark Zürich Puls 5",
         "6.0"
        ],
        [
         "70",
         "2025-03-23 19:28:55.788241",
         "https://www.fitnesspark.ch/fitnessparks/puls-5-zuerich/ueber-den-park/",
         "850.0",
         "Fitnesspark Zürich Puls 5",
         "1.0"
        ],
        [
         "86",
         "2025-03-23 19:49:02.196265",
         "https://www.fitnesspark.ch/fitnessparks/puls-5-zuerich/ueber-den-park/",
         "850.0",
         "Fitnesspark Zürich Puls 5",
         null
        ],
        [
         "102",
         "2025-03-23 20:12:34.872866",
         "https://www.fitnesspark.ch/fitnessparks/puls-5-zuerich/ueber-den-park/",
         "850.0",
         "Fitnesspark Zürich Puls 5",
         null
        ],
        [
         "118",
         "2025-03-23 20:31:16.270199",
         "https://www.fitnesspark.ch/fitnessparks/puls-5-zuerich/ueber-den-park/",
         "850.0",
         "Fitnesspark Zürich Puls 5",
         null
        ],
        [
         "134",
         "2025-03-23 20:49:01.050590",
         "https://www.fitnesspark.ch/fitnessparks/puls-5-zuerich/ueber-den-park/",
         "850.0",
         "Fitnesspark Zürich Puls 5",
         null
        ],
        [
         "150",
         "2025-03-23 21:11:22.609418",
         "https://www.fitnesspark.ch/fitnessparks/puls-5-zuerich/ueber-den-park/",
         "850.0",
         "Fitnesspark Zürich Puls 5",
         null
        ],
        [
         "166",
         "2025-03-23 21:29:22.397136",
         "https://www.fitnesspark.ch/fitnessparks/puls-5-zuerich/ueber-den-park/",
         "850.0",
         "Fitnesspark Zürich Puls 5",
         null
        ],
        [
         "182",
         "2025-03-23 21:49:20.871743",
         "https://www.fitnesspark.ch/fitnessparks/puls-5-zuerich/ueber-den-park/",
         "850.0",
         "Fitnesspark Zürich Puls 5",
         null
        ],
        [
         "198",
         "2025-03-23 22:11:44.677096",
         "https://www.fitnesspark.ch/fitnessparks/puls-5-zuerich/ueber-den-park/",
         "850.0",
         "Fitnesspark Zürich Puls 5",
         null
        ],
        [
         "214",
         "2025-03-23 22:49:12.068191",
         "https://www.fitnesspark.ch/fitnessparks/puls-5-zuerich/ueber-den-park/",
         "850.0",
         "Fitnesspark Zürich Puls 5",
         null
        ],
        [
         "230",
         "2025-03-24 04:12:42.196006",
         "https://www.fitnesspark.ch/fitnessparks/puls-5-zuerich/ueber-den-park/",
         "850.0",
         "Fitnesspark Zürich Puls 5",
         null
        ],
        [
         "246",
         "2025-03-24 04:34:44.722997",
         "https://www.fitnesspark.ch/fitnessparks/puls-5-zuerich/ueber-den-park/",
         "850.0",
         "Fitnesspark Zürich Puls 5",
         null
        ],
        [
         "262",
         "2025-03-24 04:50:15.436336",
         "https://www.fitnesspark.ch/fitnessparks/puls-5-zuerich/ueber-den-park/",
         "850.0",
         "Fitnesspark Zürich Puls 5",
         null
        ],
        [
         "278",
         "2025-03-24 05:12:27.876512",
         "https://www.fitnesspark.ch/fitnessparks/puls-5-zuerich/ueber-den-park/",
         "850.0",
         "Fitnesspark Zürich Puls 5",
         "3.0"
        ],
        [
         "294",
         "2025-03-24 05:33:26.562281",
         "https://www.fitnesspark.ch/fitnessparks/puls-5-zuerich/ueber-den-park/",
         "850.0",
         "Fitnesspark Zürich Puls 5",
         "26.0"
        ],
        [
         "310",
         "2025-03-24 05:48:49.424030",
         "https://www.fitnesspark.ch/fitnessparks/puls-5-zuerich/ueber-den-park/",
         "850.0",
         "Fitnesspark Zürich Puls 5",
         "36.0"
        ],
        [
         "326",
         "2025-03-24 06:13:03.000999",
         "https://www.fitnesspark.ch/fitnessparks/puls-5-zuerich/ueber-den-park/",
         "850.0",
         "Fitnesspark Zürich Puls 5",
         "39.0"
        ],
        [
         "342",
         "2025-03-24 06:37:18.638864",
         "https://www.fitnesspark.ch/fitnessparks/puls-5-zuerich/ueber-den-park/",
         "850.0",
         "Fitnesspark Zürich Puls 5",
         "48.0"
        ],
        [
         "358",
         "2025-03-24 06:51:55.977827",
         "https://www.fitnesspark.ch/fitnessparks/puls-5-zuerich/ueber-den-park/",
         "850.0",
         "Fitnesspark Zürich Puls 5",
         "48.0"
        ],
        [
         "374",
         "2025-03-24 07:12:22.840612",
         "https://www.fitnesspark.ch/fitnessparks/puls-5-zuerich/ueber-den-park/",
         "850.0",
         "Fitnesspark Zürich Puls 5",
         "54.0"
        ],
        [
         "390",
         "2025-03-24 07:31:52.056554",
         "https://www.fitnesspark.ch/fitnessparks/puls-5-zuerich/ueber-den-park/",
         "850.0",
         "Fitnesspark Zürich Puls 5",
         "60.0"
        ],
        [
         "406",
         "2025-03-24 07:49:01.090987",
         "https://www.fitnesspark.ch/fitnessparks/puls-5-zuerich/ueber-den-park/",
         "850.0",
         "Fitnesspark Zürich Puls 5",
         "61.0"
        ],
        [
         "422",
         "2025-03-24 08:13:08.403845",
         "https://www.fitnesspark.ch/fitnessparks/puls-5-zuerich/ueber-den-park/",
         "850.0",
         "Fitnesspark Zürich Puls 5",
         "58.0"
        ],
        [
         "438",
         "2025-03-24 08:36:14.645442",
         "https://www.fitnesspark.ch/fitnessparks/puls-5-zuerich/ueber-den-park/",
         "850.0",
         "Fitnesspark Zürich Puls 5",
         "71.0"
        ],
        [
         "454",
         "2025-03-24 08:51:33.907546",
         "https://www.fitnesspark.ch/fitnessparks/puls-5-zuerich/ueber-den-park/",
         "850.0",
         "Fitnesspark Zürich Puls 5",
         "79.0"
        ],
        [
         "470",
         "2025-03-24 09:12:24.499525",
         "https://www.fitnesspark.ch/fitnessparks/puls-5-zuerich/ueber-den-park/",
         "850.0",
         "Fitnesspark Zürich Puls 5",
         "89.0"
        ],
        [
         "486",
         "2025-03-24 09:32:44.271914",
         "https://www.fitnesspark.ch/fitnessparks/puls-5-zuerich/ueber-den-park/",
         "850.0",
         "Fitnesspark Zürich Puls 5",
         "93.0"
        ],
        [
         "502",
         "2025-03-24 09:49:10.209972",
         "https://www.fitnesspark.ch/fitnessparks/puls-5-zuerich/ueber-den-park/",
         "850.0",
         "Fitnesspark Zürich Puls 5",
         "91.0"
        ],
        [
         "518",
         "2025-03-24 10:12:17.399781",
         "https://www.fitnesspark.ch/fitnessparks/puls-5-zuerich/ueber-den-park/",
         "850.0",
         "Fitnesspark Zürich Puls 5",
         "103.0"
        ],
        [
         "534",
         "2025-03-24 10:35:32.000051",
         "https://www.fitnesspark.ch/fitnessparks/puls-5-zuerich/ueber-den-park/",
         "850.0",
         "Fitnesspark Zürich Puls 5",
         "101.0"
        ],
        [
         "550",
         "2025-03-24 10:49:50.781087",
         "https://www.fitnesspark.ch/fitnessparks/puls-5-zuerich/ueber-den-park/",
         "850.0",
         "Fitnesspark Zürich Puls 5",
         "102.0"
        ],
        [
         "566",
         "2025-03-24 11:12:05.546366",
         "https://www.fitnesspark.ch/fitnessparks/puls-5-zuerich/ueber-den-park/",
         "850.0",
         "Fitnesspark Zürich Puls 5",
         "130.0"
        ],
        [
         "582",
         "2025-03-24 11:29:52.448685",
         "https://www.fitnesspark.ch/fitnessparks/puls-5-zuerich/ueber-den-park/",
         "850.0",
         "Fitnesspark Zürich Puls 5",
         "152.0"
        ],
        [
         "598",
         "2025-03-24 11:49:12.101136",
         "https://www.fitnesspark.ch/fitnessparks/puls-5-zuerich/ueber-den-park/",
         "850.0",
         "Fitnesspark Zürich Puls 5",
         "159.0"
        ],
        [
         "614",
         "2025-03-24 12:15:06.231627",
         "https://www.fitnesspark.ch/fitnessparks/puls-5-zuerich/ueber-den-park/",
         "850.0",
         "Fitnesspark Zürich Puls 5",
         "130.0"
        ],
        [
         "630",
         "2025-03-24 12:40:50.893282",
         "https://www.fitnesspark.ch/fitnessparks/puls-5-zuerich/ueber-den-park/",
         "850.0",
         "Fitnesspark Zürich Puls 5",
         "86.0"
        ],
        [
         "646",
         "2025-03-24 12:59:29.597024",
         "https://www.fitnesspark.ch/fitnessparks/puls-5-zuerich/ueber-den-park/",
         "850.0",
         "Fitnesspark Zürich Puls 5",
         "75.0"
        ],
        [
         "662",
         "2025-03-24 13:16:56.410351",
         "https://www.fitnesspark.ch/fitnessparks/puls-5-zuerich/ueber-den-park/",
         "850.0",
         "Fitnesspark Zürich Puls 5",
         "71.0"
        ],
        [
         "678",
         "2025-03-24 13:36:33.782606",
         "https://www.fitnesspark.ch/fitnessparks/puls-5-zuerich/ueber-den-park/",
         "850.0",
         "Fitnesspark Zürich Puls 5",
         "81.0"
        ],
        [
         "694",
         "2025-03-24 13:50:02.827545",
         "https://www.fitnesspark.ch/fitnessparks/puls-5-zuerich/ueber-den-park/",
         "850.0",
         "Fitnesspark Zürich Puls 5",
         "79.0"
        ],
        [
         "710",
         "2025-03-24 14:12:04.922806",
         "https://www.fitnesspark.ch/fitnessparks/puls-5-zuerich/ueber-den-park/",
         "850.0",
         "Fitnesspark Zürich Puls 5",
         "78.0"
        ],
        [
         "726",
         "2025-03-24 14:33:56.356570",
         "https://www.fitnesspark.ch/fitnessparks/puls-5-zuerich/ueber-den-park/",
         "850.0",
         "Fitnesspark Zürich Puls 5",
         "72.0"
        ],
        [
         "742",
         "2025-03-24 14:49:58.978307",
         "https://www.fitnesspark.ch/fitnessparks/puls-5-zuerich/ueber-den-park/",
         "850.0",
         "Fitnesspark Zürich Puls 5",
         "67.0"
        ],
        [
         "758",
         "2025-03-24 15:12:21.543368",
         "https://www.fitnesspark.ch/fitnessparks/puls-5-zuerich/ueber-den-park/",
         "850.0",
         "Fitnesspark Zürich Puls 5",
         "73.0"
        ],
        [
         "774",
         "2025-03-24 15:33:09.842392",
         "https://www.fitnesspark.ch/fitnessparks/puls-5-zuerich/ueber-den-park/",
         "850.0",
         "Fitnesspark Zürich Puls 5",
         "78.0"
        ],
        [
         "790",
         "2025-03-24 15:49:18.053054",
         "https://www.fitnesspark.ch/fitnessparks/puls-5-zuerich/ueber-den-park/",
         "850.0",
         "Fitnesspark Zürich Puls 5",
         "92.0"
        ]
       ],
       "shape": {
        "columns": 5,
        "rows": 240
       }
      },
      "text/html": [
       "<div>\n",
       "<style scoped>\n",
       "    .dataframe tbody tr th:only-of-type {\n",
       "        vertical-align: middle;\n",
       "    }\n",
       "\n",
       "    .dataframe tbody tr th {\n",
       "        vertical-align: top;\n",
       "    }\n",
       "\n",
       "    .dataframe thead th {\n",
       "        text-align: right;\n",
       "    }\n",
       "</style>\n",
       "<table border=\"1\" class=\"dataframe\">\n",
       "  <thead>\n",
       "    <tr style=\"text-align: right;\">\n",
       "      <th></th>\n",
       "      <th>timestamp_utc</th>\n",
       "      <th>url</th>\n",
       "      <th>training_area_m2</th>\n",
       "      <th>gym</th>\n",
       "      <th>occupancy</th>\n",
       "    </tr>\n",
       "  </thead>\n",
       "  <tbody>\n",
       "    <tr>\n",
       "      <th>6</th>\n",
       "      <td>2025-03-23 18:26:06.104158</td>\n",
       "      <td>https://www.fitnesspark.ch/fitnessparks/puls-5...</td>\n",
       "      <td>850.0</td>\n",
       "      <td>Fitnesspark Zürich Puls 5</td>\n",
       "      <td>102.0</td>\n",
       "    </tr>\n",
       "    <tr>\n",
       "      <th>22</th>\n",
       "      <td>2025-03-23 18:34:57.492939</td>\n",
       "      <td>https://www.fitnesspark.ch/fitnessparks/puls-5...</td>\n",
       "      <td>850.0</td>\n",
       "      <td>Fitnesspark Zürich Puls 5</td>\n",
       "      <td>102.0</td>\n",
       "    </tr>\n",
       "    <tr>\n",
       "      <th>38</th>\n",
       "      <td>2025-03-23 18:49:19.722402</td>\n",
       "      <td>https://www.fitnesspark.ch/fitnessparks/puls-5...</td>\n",
       "      <td>850.0</td>\n",
       "      <td>Fitnesspark Zürich Puls 5</td>\n",
       "      <td>89.0</td>\n",
       "    </tr>\n",
       "    <tr>\n",
       "      <th>54</th>\n",
       "      <td>2025-03-23 19:11:25.200603</td>\n",
       "      <td>https://www.fitnesspark.ch/fitnessparks/puls-5...</td>\n",
       "      <td>850.0</td>\n",
       "      <td>Fitnesspark Zürich Puls 5</td>\n",
       "      <td>6.0</td>\n",
       "    </tr>\n",
       "    <tr>\n",
       "      <th>70</th>\n",
       "      <td>2025-03-23 19:28:55.788241</td>\n",
       "      <td>https://www.fitnesspark.ch/fitnessparks/puls-5...</td>\n",
       "      <td>850.0</td>\n",
       "      <td>Fitnesspark Zürich Puls 5</td>\n",
       "      <td>1.0</td>\n",
       "    </tr>\n",
       "    <tr>\n",
       "      <th>...</th>\n",
       "      <td>...</td>\n",
       "      <td>...</td>\n",
       "      <td>...</td>\n",
       "      <td>...</td>\n",
       "      <td>...</td>\n",
       "    </tr>\n",
       "    <tr>\n",
       "      <th>3766</th>\n",
       "      <td>2025-03-27 21:12:09.101524</td>\n",
       "      <td>https://www.fitnesspark.ch/fitnessparks/puls-5...</td>\n",
       "      <td>850.0</td>\n",
       "      <td>Fitnesspark Zürich Puls 5</td>\n",
       "      <td>35.0</td>\n",
       "    </tr>\n",
       "    <tr>\n",
       "      <th>3782</th>\n",
       "      <td>2025-03-27 21:31:43.729140</td>\n",
       "      <td>https://www.fitnesspark.ch/fitnessparks/puls-5...</td>\n",
       "      <td>850.0</td>\n",
       "      <td>Fitnesspark Zürich Puls 5</td>\n",
       "      <td>NaN</td>\n",
       "    </tr>\n",
       "    <tr>\n",
       "      <th>3798</th>\n",
       "      <td>2025-03-27 21:49:36.687309</td>\n",
       "      <td>https://www.fitnesspark.ch/fitnessparks/puls-5...</td>\n",
       "      <td>850.0</td>\n",
       "      <td>Fitnesspark Zürich Puls 5</td>\n",
       "      <td>NaN</td>\n",
       "    </tr>\n",
       "    <tr>\n",
       "      <th>3814</th>\n",
       "      <td>2025-03-27 22:12:04.820503</td>\n",
       "      <td>https://www.fitnesspark.ch/fitnessparks/puls-5...</td>\n",
       "      <td>850.0</td>\n",
       "      <td>Fitnesspark Zürich Puls 5</td>\n",
       "      <td>NaN</td>\n",
       "    </tr>\n",
       "    <tr>\n",
       "      <th>3830</th>\n",
       "      <td>2025-03-27 22:33:17.589029</td>\n",
       "      <td>https://www.fitnesspark.ch/fitnessparks/puls-5...</td>\n",
       "      <td>850.0</td>\n",
       "      <td>Fitnesspark Zürich Puls 5</td>\n",
       "      <td>NaN</td>\n",
       "    </tr>\n",
       "  </tbody>\n",
       "</table>\n",
       "<p>240 rows × 5 columns</p>\n",
       "</div>"
      ],
      "text/plain": [
       "                  timestamp_utc  \\\n",
       "6    2025-03-23 18:26:06.104158   \n",
       "22   2025-03-23 18:34:57.492939   \n",
       "38   2025-03-23 18:49:19.722402   \n",
       "54   2025-03-23 19:11:25.200603   \n",
       "70   2025-03-23 19:28:55.788241   \n",
       "...                         ...   \n",
       "3766 2025-03-27 21:12:09.101524   \n",
       "3782 2025-03-27 21:31:43.729140   \n",
       "3798 2025-03-27 21:49:36.687309   \n",
       "3814 2025-03-27 22:12:04.820503   \n",
       "3830 2025-03-27 22:33:17.589029   \n",
       "\n",
       "                                                    url  training_area_m2  \\\n",
       "6     https://www.fitnesspark.ch/fitnessparks/puls-5...             850.0   \n",
       "22    https://www.fitnesspark.ch/fitnessparks/puls-5...             850.0   \n",
       "38    https://www.fitnesspark.ch/fitnessparks/puls-5...             850.0   \n",
       "54    https://www.fitnesspark.ch/fitnessparks/puls-5...             850.0   \n",
       "70    https://www.fitnesspark.ch/fitnessparks/puls-5...             850.0   \n",
       "...                                                 ...               ...   \n",
       "3766  https://www.fitnesspark.ch/fitnessparks/puls-5...             850.0   \n",
       "3782  https://www.fitnesspark.ch/fitnessparks/puls-5...             850.0   \n",
       "3798  https://www.fitnesspark.ch/fitnessparks/puls-5...             850.0   \n",
       "3814  https://www.fitnesspark.ch/fitnessparks/puls-5...             850.0   \n",
       "3830  https://www.fitnesspark.ch/fitnessparks/puls-5...             850.0   \n",
       "\n",
       "                            gym  occupancy  \n",
       "6     Fitnesspark Zürich Puls 5      102.0  \n",
       "22    Fitnesspark Zürich Puls 5      102.0  \n",
       "38    Fitnesspark Zürich Puls 5       89.0  \n",
       "54    Fitnesspark Zürich Puls 5        6.0  \n",
       "70    Fitnesspark Zürich Puls 5        1.0  \n",
       "...                         ...        ...  \n",
       "3766  Fitnesspark Zürich Puls 5       35.0  \n",
       "3782  Fitnesspark Zürich Puls 5        NaN  \n",
       "3798  Fitnesspark Zürich Puls 5        NaN  \n",
       "3814  Fitnesspark Zürich Puls 5        NaN  \n",
       "3830  Fitnesspark Zürich Puls 5        NaN  \n",
       "\n",
       "[240 rows x 5 columns]"
      ]
     },
     "execution_count": 15,
     "metadata": {},
     "output_type": "execute_result"
    }
   ],
   "source": [
    "df_puls = df[df.gym == \"Fitnesspark Zürich Puls 5\"]\n",
    "df_puls"
   ]
  },
  {
   "cell_type": "code",
   "execution_count": null,
   "metadata": {},
   "outputs": [
    {
     "data": {
      "image/png": "[encoded data removed]",
      "text/plain": [
       "<Figure size 1000x500 with 1 Axes>"
      ]
     },
     "metadata": {},
     "output_type": "display_data"
    }
   ],
   "source": [
    "plt.style.use('fivethirtyeight')\n",
    "fig, axs = plt.subplots(5, figsize=(10,5))\n",
    "\n",
    "# TODO add all gyms\n",
    "for ax in axs:\n",
    "    pass\n",
    "\n",
    "df_puls.plot(kind='line', y='occupancy', x=\"timestamp_utc\", label=\"Puls 5\", ax=ax)\n",
    "#ax.legend().set_visible(False)\n",
    "\n",
    "ax.set_ylabel('Belegung')\n",
    "ax.set_xlabel('Datum')\n",
    "\n",
    "# Major ticks alle 5 Tage, ab dem 5.\n",
    "ax.xaxis.set_major_locator(mdates.HourLocator(byhour=range(6, 22, 6)))\n",
    "ax.xaxis.set_major_formatter(mdates.DateFormatter('%d.%m.%Y %H:%M'))\n",
    "plt.xticks(rotation=45, ha='right', rotation_mode='anchor')\n",
    "\n",
    "# Minor ticks off\n",
    "ax.xaxis.set_minor_locator(ticker.NullLocator())\n",
    "\n",
    "plt.show()"
   ]
  },
  {
   "cell_type": "code",
   "execution_count": null,
   "metadata": {},
   "outputs": [],
   "source": [
    "\n"
   ]
  }
 ],
 "metadata": {
  "kernelspec": {
   "display_name": "pyenv",
   "language": "python",
   "name": "python3"
  },
  "language_info": {
   "codemirror_mode": {
    "name": "ipython",
    "version": 3
   },
   "file_extension": ".py",
   "mimetype": "text/x-python",
   "name": "python",
   "nbconvert_exporter": "python",
   "pygments_lexer": "ipython3",
   "version": "3.11.5"
  }
 },
 "nbformat": 4,
 "nbformat_minor": 4
}
